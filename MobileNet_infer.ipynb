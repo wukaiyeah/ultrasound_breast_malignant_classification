{
 "cells": [
  {
   "cell_type": "code",
   "execution_count": 1,
   "id": "053b4aef",
   "metadata": {
    "lines_to_next_cell": 1
   },
   "outputs": [],
   "source": [
    "# -*- coding: utf-8 -*-\n",
    "import numpy as np\n",
    "from skimage.transform import resize\n",
    "import matplotlib.pyplot as plt\n",
    "from matplotlib import cm\n",
    "import os\n",
    "import glob\n",
    "from tqdm import tqdm\n",
    "import tensorflow as tf\n",
    "import keras \n",
    "from keras import layers\n",
    "from keras.applications.mobilenet import preprocess_input\n",
    "from PIL import Image\n"
   ]
  },
  {
   "cell_type": "code",
   "execution_count": 2,
   "id": "4673e57e",
   "metadata": {},
   "outputs": [],
   "source": [
    "def _conv_block(inputs, filters, alpha, kernel=(3, 3), strides=(1, 1)):\n",
    "  filters = int(filters * alpha)\n",
    "  x = layers.Conv2D(\n",
    "      filters,\n",
    "      kernel,\n",
    "      padding='same',\n",
    "      use_bias=False,\n",
    "      strides=strides,\n",
    "      name='conv1')(inputs)\n",
    "  x = layers.BatchNormalization(name='conv1_bn')(x)\n",
    "  return layers.ReLU(6., name='conv1_relu')(x)"
   ]
  },
  {
   "cell_type": "code",
   "execution_count": 3,
   "id": "2ca124f6",
   "metadata": {
    "lines_to_next_cell": 1
   },
   "outputs": [],
   "source": [
    "def _depthwise_conv_block(inputs,\n",
    "                          pointwise_conv_filters,\n",
    "                          alpha,\n",
    "                          depth_multiplier=1,\n",
    "                          strides=(1, 1),\n",
    "                          block_id=1):\n",
    "  \"\"\"Adds a depthwise convolution block.\n",
    "\n",
    "  A depthwise convolution block consists of a depthwise conv,\n",
    "  batch normalization, relu6, pointwise convolution,\n",
    "  batch normalization and relu6 activation.\n",
    "\n",
    "  Args:\n",
    "    inputs: Input tensor of shape `(rows, cols, channels)` (with\n",
    "      `channels_last` data format) or (channels, rows, cols) (with\n",
    "      `channels_first` data format).\n",
    "    pointwise_conv_filters: Integer, the dimensionality of the output space\n",
    "      (i.e. the number of output filters in the pointwise convolution).\n",
    "    alpha: controls the width of the network. - If `alpha` < 1.0,\n",
    "      proportionally decreases the number of filters in each layer. - If\n",
    "      `alpha` > 1.0, proportionally increases the number of filters in each\n",
    "      layer. - If `alpha` = 1, default number of filters from the paper are\n",
    "      used at each layer.\n",
    "    depth_multiplier: The number of depthwise convolution output channels\n",
    "      for each input channel. The total number of depthwise convolution\n",
    "      output channels will be equal to `filters_in * depth_multiplier`.\n",
    "    strides: An integer or tuple/list of 2 integers, specifying the strides\n",
    "      of the convolution along the width and height. Can be a single integer\n",
    "      to specify the same value for all spatial dimensions. Specifying any\n",
    "      stride value != 1 is incompatible with specifying any `dilation_rate`\n",
    "      value != 1.\n",
    "    block_id: Integer, a unique identification designating the block number.\n",
    "      # Input shape\n",
    "    4D tensor with shape: `(batch, channels, rows, cols)` if\n",
    "      data_format='channels_first'\n",
    "    or 4D tensor with shape: `(batch, rows, cols, channels)` if\n",
    "      data_format='channels_last'. # Output shape\n",
    "    4D tensor with shape: `(batch, filters, new_rows, new_cols)` if\n",
    "      data_format='channels_first'\n",
    "    or 4D tensor with shape: `(batch, new_rows, new_cols, filters)` if\n",
    "      data_format='channels_last'. `rows` and `cols` values might have\n",
    "      changed due to stride.\n",
    "\n",
    "  Returns:\n",
    "    Output tensor of block.\n",
    "  \"\"\"\n",
    "\n",
    "  pointwise_conv_filters = int(pointwise_conv_filters * alpha)\n",
    "\n",
    "  if strides == (1, 1):\n",
    "    x = inputs\n",
    "  else:\n",
    "    x = layers.ZeroPadding2D(((0, 1), (0, 1)), name='conv_pad_%d' % block_id)(\n",
    "        inputs)\n",
    "  x = layers.DepthwiseConv2D((3, 3),\n",
    "                             padding='same' if strides == (1, 1) else 'valid',\n",
    "                             depth_multiplier=depth_multiplier,\n",
    "                             strides=strides,\n",
    "                             use_bias=False,\n",
    "                             name='conv_dw_%d' % block_id)(\n",
    "                                 x)\n",
    "  x = layers.BatchNormalization(\n",
    "       name='conv_dw_%d_bn' % block_id)(\n",
    "          x)\n",
    "  x = layers.ReLU(6., name='conv_dw_%d_relu' % block_id)(x)\n",
    "\n",
    "  x = layers.Conv2D(\n",
    "      pointwise_conv_filters, (1, 1),\n",
    "      padding='same',\n",
    "      use_bias=False,\n",
    "      strides=(1, 1),\n",
    "      name='conv_pw_%d' % block_id)(\n",
    "          x)\n",
    "  x = layers.BatchNormalization(\n",
    "       name='conv_pw_%d_bn' % block_id)(\n",
    "          x)\n",
    "  return layers.ReLU(6., name='conv_pw_%d_relu' % block_id)(x)"
   ]
  },
  {
   "cell_type": "code",
   "execution_count": 4,
   "id": "73339d3b",
   "metadata": {
    "lines_to_next_cell": 1
   },
   "outputs": [],
   "source": [
    "def MobileNet(input_shape=None,\n",
    "              alpha=1.0,\n",
    "              depth_multiplier=1,\n",
    "              dropout=1e-3,\n",
    "              include_top=True,\n",
    "              weights='imagenet',\n",
    "              input_tensor=None,\n",
    "              pooling=None,\n",
    "              classes=2,\n",
    "              classifier_activation='softmax',\n",
    "              **kwargs):\n",
    "\n",
    "    img_input = layers.Input(shape=input_shape)\n",
    "    \n",
    "    x = _conv_block(img_input, 32, alpha, strides=(2, 2))\n",
    "    x = _depthwise_conv_block(x, 64, alpha, depth_multiplier, block_id=1)\n",
    "    \n",
    "    x = _depthwise_conv_block(\n",
    "      x, 128, alpha, depth_multiplier, strides=(2, 2), block_id=2)\n",
    "    x = _depthwise_conv_block(x, 128, alpha, depth_multiplier, block_id=3)\n",
    "    \n",
    "    x = _depthwise_conv_block(\n",
    "        x, 256, alpha, depth_multiplier, strides=(2, 2), block_id=4)\n",
    "    x = _depthwise_conv_block(x, 256, alpha, depth_multiplier, block_id=5)\n",
    "    \n",
    "    x = _depthwise_conv_block(\n",
    "        x, 512, alpha, depth_multiplier, strides=(2, 2), block_id=6)\n",
    "    x = _depthwise_conv_block(x, 512, alpha, depth_multiplier, block_id=7)\n",
    "    x = _depthwise_conv_block(x, 512, alpha, depth_multiplier, block_id=8)\n",
    "    x = _depthwise_conv_block(x, 512, alpha, depth_multiplier, block_id=9)\n",
    "    x = _depthwise_conv_block(x, 512, alpha, depth_multiplier, block_id=10)\n",
    "    x = _depthwise_conv_block(x, 512, alpha, depth_multiplier, block_id=11)\n",
    "    \n",
    "    x = _depthwise_conv_block(\n",
    "        x, 1024, alpha, depth_multiplier, strides=(2, 2), block_id=12)\n",
    "    x = _depthwise_conv_block(x, 1024, alpha, depth_multiplier, block_id=13)\n",
    "    \n",
    "    x = layers.GlobalAveragePooling2D()(x)\n",
    "    # x = layers.Reshape(shape, name='reshape_1')(x)\n",
    "    # x = layers.Dropout(dropout, name='dropout')(x)\n",
    "    # x = layers.Conv2D(classes, (1, 1), padding='same', name='conv_preds')(x)\n",
    "    x = layers.Dense(2, name='fc')(x)\n",
    "    x = layers.Reshape((classes,), name='reshape_1')(x)\n",
    "    # imagenet_utils.validate_activation(classifier_activation, weights)\n",
    "    x = layers.Activation(activation=classifier_activation,\n",
    "                            name='predictions')(x)\n",
    "\n",
    "    model = keras.Model(inputs=[img_input], outputs=[x])    \n",
    "    return model"
   ]
  },
  {
   "cell_type": "code",
   "execution_count": 5,
   "id": "70fa9efc",
   "metadata": {},
   "outputs": [],
   "source": [
    "def zero_pad(img, size=224):\n",
    "    '''\n",
    "    pad zeros to make a square img for resize\n",
    "    '''\n",
    "    h, w, c = img.shape\n",
    "    if h>w:\n",
    "        zeros = np.zeros([h, h-w, c]).astype(np.uint8)\n",
    "        img_padded = np.hstack((img, zeros))\n",
    "    elif h<w:\n",
    "        zeros = np.zeros([w-h, w, c]).astype(np.uint8)\n",
    "        img_padded = np.vstack((img, zeros))\n",
    "    else:\n",
    "        img_padded = img\n",
    "    \n",
    "    img_resized = (255*resize(img_padded, (size, size), anti_aliasing=True)).astype(np.uint8)\n",
    "    \n",
    "    return img_resized"
   ]
  },
  {
   "cell_type": "code",
   "execution_count": 16,
   "id": "ca45bc17",
   "metadata": {
    "lines_to_next_cell": 1
   },
   "outputs": [],
   "source": [
    "# load data\n",
    "img_dirs = glob.glob(os.path.join('/media/wukai/project/breast_diff_resolustion_project/tumor_samples','*.jpg'))\n",
    "model_weight = '/media/wukai/project/breast_diff_resolustion_project/MobileNet_224_checkpoints/2021913101.h5'\n",
    "model = keras.models.load_model(model_weight)\n",
    "grad_model = tf.keras.models.Model([model.inputs], [model.get_layer('conv_pw_13').output, model.output])"
   ]
  },
  {
   "cell_type": "code",
   "execution_count": 11,
   "id": "61b98292",
   "metadata": {},
   "outputs": [],
   "source": [
    "def make_gradcam_heatmap(img_array, model, last_conv_layer_name, pred_index=None):\n",
    "    # First, we create a model that maps the input image to the activations\n",
    "    # of the last conv layer as well as the output predictions\n",
    "    # 首先，我们创建一个模型，将输入图像映射到最后一个conv层的激活以及输出预测\n",
    "    grad_model = tf.keras.models.Model(\n",
    "        [model.inputs], [model.get_layer(last_conv_layer_name).output, model.output]\n",
    "    )\n",
    "\n",
    "    # Then, we compute the gradient of the top predicted class for our input image\n",
    "    # with respect to the activations of the last conv layer\n",
    "    #然后，我们为输入图像计算top预测类关于最后一个conv层的激活的梯度\n",
    "    with tf.GradientTape() as tape:\n",
    "        last_conv_layer_output, preds = grad_model(img_array)\n",
    "        #如果没有传入pred_index,就计算pred[0]中最大的值对应的下标号index\n",
    "        if pred_index is None:\n",
    "            pred_index = tf.argmax(preds[0])\n",
    "        class_channel = preds[:, pred_index]\n",
    "\n",
    "    # This is the gradient of the output neuron (top predicted or chosen)这是输出神经元(预测概率最高的或者选定的那个)对最后一个卷积层输出特征图的梯度\n",
    "    # with regard to the output feature map of the last conv layer\n",
    "    # grads.shape(1, 10, 10, 2048)\n",
    "    grads = tape.gradient(class_channel, last_conv_layer_output)\n",
    "\n",
    "    # This is a vector where each entry is the mean intensity of the gradient这是一个向量,每一项都是 指定特征图通道上的平均值\n",
    "    # over a specific feature map channel\n",
    "    # pooled_grads 是一个一维向量,shape=(2048,)\n",
    "    pooled_grads = tf.reduce_mean(grads, axis=(0, 1, 2))\n",
    "\n",
    "    # We multiply each channel in the feature map array\n",
    "    # by \"how important this channel is\" with regard to the top predicted class\n",
    "    # then sum all the channels to obtain the heatmap class activation\n",
    "    # last_conv_layer_output[0]是一个三维的卷积层 ,@矩阵相乘(点积) \n",
    "    #last_conv_layer_output.shape  =(10, 10, 2048)\n",
    "    last_conv_layer_output = last_conv_layer_output[0]\n",
    "    #heatmap (10, 10, 1) = (10, 10, 2048)  @(2048,)相当于(10, 10, 2048)乘以(2048,1)\n",
    "    heatmap = last_conv_layer_output @ pooled_grads[..., tf.newaxis]\n",
    "    # tf.squeeze 去除1的维度,(10, 10)\n",
    "    heatmap = tf.squeeze(heatmap)\n",
    "\n",
    "    # For visualization purpose, we will also normalize the heatmap between 0 & 1\t\n",
    "    # tf.maximum(heatmap, 0) 和0比较大小,返回一个>=0的值,相当于relu,然后除以heatmap中最大的 值,进行normalize归一化到0-1\n",
    "    heatmap = tf.maximum(heatmap, 0) / tf.math.reduce_max(heatmap)\n",
    "    return heatmap.numpy()"
   ]
  },
  {
   "cell_type": "code",
   "execution_count": 12,
   "id": "b38ce4d6",
   "metadata": {},
   "outputs": [],
   "source": [
    "def save_and_display_gradcam(img_path, heatmap, cam_path=\"cam.jpg\", alpha=0.4):\n",
    "    # Load the original image\n",
    "    img = keras.preprocessing.image.load_img(img_path)\n",
    "    img = keras.preprocessing.image.img_to_array(img)\n",
    "\n",
    "    # Rescale heatmap to a range 0-255\n",
    "    heatmap = np.uint8(255 * heatmap)\n",
    "\n",
    "    # Use jet colormap to colorize heatmap\n",
    "    jet = cm.get_cmap(\"jet\")\n",
    "\n",
    "    # Use RGB values of the colormap\n",
    "    jet_colors = jet(np.arange(256))[:, :3]\n",
    "    jet_heatmap = jet_colors[heatmap]\n",
    "\n",
    "    # Create an image with RGB colorized heatmap\n",
    "    jet_heatmap = keras.preprocessing.image.array_to_img(jet_heatmap)\n",
    "    jet_heatmap = jet_heatmap.resize((img.shape[1], img.shape[0]))\n",
    "    jet_heatmap = keras.preprocessing.image.img_to_array(jet_heatmap)\n",
    "\n",
    "    # Superimpose重叠 the heatmap on original image\n",
    "    superimposed_img = jet_heatmap * alpha + img\n",
    "    superimposed_img = keras.preprocessing.image.array_to_img(superimposed_img)\n",
    "\n",
    "    # Save the superimposed image\n",
    "    superimposed_img.save(cam_path)"
   ]
  },
  {
   "cell_type": "code",
   "execution_count": 18,
   "id": "1b087782",
   "metadata": {},
   "outputs": [
    {
     "name": "stderr",
     "output_type": "stream",
     "text": [
      "  0%|          | 0/4 [00:00<?, ?it/s]"
     ]
    },
    {
     "name": "stdout",
     "output_type": "stream",
     "text": [
      "001_3_0_0_roi tumor level: 3, predict: 2.1965091946185566e-05\n"
     ]
    },
    {
     "name": "stderr",
     "output_type": "stream",
     "text": [
      "/tmp/ipykernel_1812337/2769781665.py:10: MatplotlibDeprecationWarning: The get_cmap function was deprecated in Matplotlib 3.7 and will be removed two minor releases later. Use ``matplotlib.colormaps[name]`` or ``matplotlib.colormaps.get_cmap(obj)`` instead.\n",
      "  jet = cm.get_cmap(\"jet\")\n",
      " 25%|██▌       | 1/4 [00:00<00:02,  1.06it/s]"
     ]
    },
    {
     "name": "stdout",
     "output_type": "stream",
     "text": [
      "008_4c_0_7_roi tumor level: 4c, predict: 0.9999827146530151\n"
     ]
    },
    {
     "name": "stderr",
     "output_type": "stream",
     "text": [
      "/tmp/ipykernel_1812337/2769781665.py:10: MatplotlibDeprecationWarning: The get_cmap function was deprecated in Matplotlib 3.7 and will be removed two minor releases later. Use ``matplotlib.colormaps[name]`` or ``matplotlib.colormaps.get_cmap(obj)`` instead.\n",
      "  jet = cm.get_cmap(\"jet\")\n",
      " 50%|█████     | 2/4 [00:01<00:01,  1.33it/s]"
     ]
    },
    {
     "name": "stdout",
     "output_type": "stream",
     "text": [
      "004_5_0_3_roi tumor level: 5, predict: 0.9998910427093506\n"
     ]
    },
    {
     "name": "stderr",
     "output_type": "stream",
     "text": [
      "/tmp/ipykernel_1812337/2769781665.py:10: MatplotlibDeprecationWarning: The get_cmap function was deprecated in Matplotlib 3.7 and will be removed two minor releases later. Use ``matplotlib.colormaps[name]`` or ``matplotlib.colormaps.get_cmap(obj)`` instead.\n",
      "  jet = cm.get_cmap(\"jet\")\n",
      " 75%|███████▌  | 3/4 [00:02<00:00,  1.42it/s]"
     ]
    },
    {
     "name": "stdout",
     "output_type": "stream",
     "text": [
      "002_3_0_1_roi tumor level: 3, predict: 0.0795985534787178\n"
     ]
    },
    {
     "name": "stderr",
     "output_type": "stream",
     "text": [
      "/tmp/ipykernel_1812337/2769781665.py:10: MatplotlibDeprecationWarning: The get_cmap function was deprecated in Matplotlib 3.7 and will be removed two minor releases later. Use ``matplotlib.colormaps[name]`` or ``matplotlib.colormaps.get_cmap(obj)`` instead.\n",
      "  jet = cm.get_cmap(\"jet\")\n",
      "100%|██████████| 4/4 [00:02<00:00,  1.39it/s]\n"
     ]
    },
    {
     "data": {
      "image/png": "[encoded data removed]",
      "text/plain": [
       "<Figure size 480x480 with 1 Axes>"
      ]
     },
     "metadata": {},
     "output_type": "display_data"
    },
    {
     "data": {
      "image/png": "[encoded data removed]",
      "text/plain": [
       "<Figure size 480x480 with 1 Axes>"
      ]
     },
     "metadata": {},
     "output_type": "display_data"
    },
    {
     "data": {
      "image/png": "[encoded data removed]",
      "text/plain": [
       "<Figure size 480x480 with 1 Axes>"
      ]
     },
     "metadata": {},
     "output_type": "display_data"
    },
    {
     "data": {
      "image/png": "[encoded data removed]",
      "text/plain": [
       "<Figure size 480x480 with 1 Axes>"
      ]
     },
     "metadata": {},
     "output_type": "display_data"
    }
   ],
   "source": [
    "for img_dir in tqdm(img_dirs):\n",
    "    img_name = os.path.basename(img_dir).replace('.jpg','')\n",
    "    tumor_level = img_name.split('_')[1]\n",
    "    img = Image.open(img_dir)\n",
    "    img = np.array(img)\n",
    "    img = zero_pad(img,224)\n",
    "    x = preprocess_input(img)\n",
    "    img_tensor = x.reshape(1,x.shape[0],x.shape[1],x.shape[2])\n",
    "    y_pred = model.predict(img_tensor)\n",
    "    print(f'{img_name} tumor level: {tumor_level}, predict: {y_pred[0][1]}')\n",
    "\n",
    "    ### GRAD-CAM\n",
    "    # Print what the top predicted class is\n",
    "    preds = model.predict(img_tensor)\n",
    "    # Generate class activation heatmap\n",
    "    heatmap = make_gradcam_heatmap(img_tensor, model, 'conv_pw_13')\n",
    "    # Display heatmap\n",
    "    plt.matshow(heatmap)\n",
    "    plt.savefig(f'tumor_sample_cam/{img_name}_feat_heatmap.jpg')\n",
    "    # Save and display Grad CAM\n",
    "    save_and_display_gradcam(img_dir, heatmap, f'tumor_sample_cam/{img_name}_grad_cam.jpg')"
   ]
  },
  {
   "cell_type": "code",
   "execution_count": null,
   "id": "03abc225",
   "metadata": {},
   "outputs": [],
   "source": []
  },
  {
   "cell_type": "code",
   "execution_count": null,
   "id": "3edc630d",
   "metadata": {},
   "outputs": [],
   "source": [
    "    "
   ]
  }
 ],
 "metadata": {
  "jupytext": {
   "cell_metadata_filter": "-all",
   "encoding": "# -*- coding: utf-8 -*-",
   "executable": "/usr/bin/env python3",
   "main_language": "python",
   "notebook_metadata_filter": "-all"
  },
  "kernelspec": {
   "display_name": "TF",
   "language": "python",
   "name": "python3"
  },
  "language_info": {
   "codemirror_mode": {
    "name": "ipython",
    "version": 3
   },
   "file_extension": ".py",
   "mimetype": "text/x-python",
   "name": "python",
   "nbconvert_exporter": "python",
   "pygments_lexer": "ipython3",
   "version": "3.9.0"
  }
 },
 "nbformat": 4,
 "nbformat_minor": 5
}
